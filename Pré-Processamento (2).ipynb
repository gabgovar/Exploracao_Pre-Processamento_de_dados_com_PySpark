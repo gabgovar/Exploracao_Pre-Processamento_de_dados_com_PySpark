{
 "cells": [
  {
   "cell_type": "markdown",
   "metadata": {},
   "source": [
    "# Pré-Processo (2)\n",
    "\n",
    "Criando novas variáveis"
   ]
  },
  {
   "cell_type": "markdown",
   "metadata": {},
   "source": [
    "## Leitura inicial"
   ]
  },
  {
   "cell_type": "markdown",
   "metadata": {},
   "source": [
    "Definir SparkContext e SQLContext"
   ]
  },
  {
   "cell_type": "code",
   "execution_count": 32,
   "metadata": {
    "collapsed": true
   },
   "outputs": [],
   "source": [
    "#from pyspark import SparkContext\n",
    "#sc = SparkContext()\n",
    "#from pyspark.sql import SQLContext\n",
    "#sqlContext=SQLContext(sc)\n",
    "#import pandas as pd"
   ]
  },
  {
   "cell_type": "markdown",
   "metadata": {},
   "source": [
    "Lendo o arquivo de trabalho"
   ]
  },
  {
   "cell_type": "code",
   "execution_count": 54,
   "metadata": {
    "collapsed": true
   },
   "outputs": [],
   "source": [
    "bd = sqlContext.read.format(\"com.databricks.spark.csv\"\n",
    ").option(\"header\", \"true\"\n",
    ").load(\"file:/home/cloudera/Time.csv\", inferSchema=True\n",
    ")"
   ]
  },
  {
   "cell_type": "code",
   "execution_count": 55,
   "metadata": {
    "collapsed": true
   },
   "outputs": [],
   "source": [
    "bd=bd.select('Year','Month','DAY_OF_MONTH','DAY_OF_WEEK','CRS_DEP_TIME','OP_UNIQUE_CARRIER',\n",
    "             'TAIL_NUM', 'ARR_DELAY','DEP_DELAY','ORIGIN','DEST','DISTANCE','CANCELLED', 'DIVERTED',\n",
    "             'CARRIER_DELAY','WEATHER_DELAY','NAS_DELAY','SECURITY_DELAY','LATE_AIRCRAFT_DELAY')"
   ]
  },
  {
   "cell_type": "code",
   "execution_count": 56,
   "metadata": {
    "collapsed": true
   },
   "outputs": [],
   "source": [
    "bd2 = bd.filter( bd.ORIGIN.isin('ATL','ORD','DEN','LAX','DFW','SFO','PHX','LAS') & bd.DEST.isin(\n",
    "    'ATL','ORD','DEN','LAX','DFW','SFO','PHX','LAS') )\n",
    "\n",
    "sqlContext.registerDataFrameAsTable(bd2, \"bd2\")"
   ]
  },
  {
   "cell_type": "code",
   "execution_count": 57,
   "metadata": {
    "collapsed": true
   },
   "outputs": [],
   "source": [
    "bd3 = bd2.filter(bd2.CANCELLED==0\n",
    ").filter(bd2.DIVERTED==0)"
   ]
  },
  {
   "cell_type": "code",
   "execution_count": 58,
   "metadata": {
    "collapsed": true
   },
   "outputs": [],
   "source": [
    "bd4 = bd3.na.fill({'CARRIER_DELAY':0, 'WEATHER_DELAY':0,'NAS_DELAY':0,'SECURITY_DELAY':0, 'LATE_AIRCRAFT_DELAY':0})\n",
    "#bd4 = bd3.na.fill(0)\n",
    "#bd4 = bd3.na.drop()"
   ]
  },
  {
   "cell_type": "markdown",
   "metadata": {},
   "source": [
    "## Transformação e criação de novas variáveis"
   ]
  },
  {
   "cell_type": "code",
   "execution_count": 59,
   "metadata": {
    "collapsed": false
   },
   "outputs": [],
   "source": [
    "from pyspark.sql.functions import log\n",
    "\n",
    "bd4 = bd4.withColumn('LogD', log(10.0, 'Distance'))"
   ]
  },
  {
   "cell_type": "code",
   "execution_count": 60,
   "metadata": {
    "collapsed": false
   },
   "outputs": [],
   "source": [
    "bd4 = bd4.withColumn('DELAY', (bd4.ARR_DELAY >=15).cast('int'))"
   ]
  },
  {
   "cell_type": "code",
   "execution_count": 63,
   "metadata": {
    "collapsed": true
   },
   "outputs": [],
   "source": [
    "bd4 = bd4.withColumn('RETARD', bd4.ARR_DELAY-bd4.DEP_DELAY)"
   ]
  },
  {
   "cell_type": "code",
   "execution_count": 64,
   "metadata": {
    "collapsed": false
   },
   "outputs": [
    {
     "data": {
      "text/plain": [
       "[('Year', 'int'),\n",
       " ('Month', 'int'),\n",
       " ('DAY_OF_MONTH', 'int'),\n",
       " ('DAY_OF_WEEK', 'int'),\n",
       " ('CRS_DEP_TIME', 'int'),\n",
       " ('OP_UNIQUE_CARRIER', 'string'),\n",
       " ('TAIL_NUM', 'string'),\n",
       " ('ARR_DELAY', 'double'),\n",
       " ('DEP_DELAY', 'double'),\n",
       " ('ORIGIN', 'string'),\n",
       " ('DEST', 'string'),\n",
       " ('DISTANCE', 'double'),\n",
       " ('CANCELLED', 'double'),\n",
       " ('DIVERTED', 'double'),\n",
       " ('CARRIER_DELAY', 'double'),\n",
       " ('WEATHER_DELAY', 'double'),\n",
       " ('NAS_DELAY', 'double'),\n",
       " ('SECURITY_DELAY', 'double'),\n",
       " ('LATE_AIRCRAFT_DELAY', 'double'),\n",
       " ('LogD', 'double'),\n",
       " ('DELAY', 'int'),\n",
       " ('DETARD', 'double'),\n",
       " ('RETARD', 'double')]"
      ]
     },
     "execution_count": 64,
     "metadata": {},
     "output_type": "execute_result"
    }
   ],
   "source": [
    "bd4.dtypes"
   ]
  },
  {
   "cell_type": "code",
   "execution_count": 65,
   "metadata": {
    "collapsed": false
   },
   "outputs": [
    {
     "name": "stdout",
     "output_type": "stream",
     "text": [
      "+-------+------------------+------------------+------------------+------------------+\n",
      "|summary|         ARR_DELAY|              LogD|             DELAY|            RETARD|\n",
      "+-------+------------------+------------------+------------------+------------------+\n",
      "|  count|             30466|             30466|             30466|             30466|\n",
      "|   mean|13.300695857677411|2.8860074541721437|0.2757500164117377|-3.919680955819602|\n",
      "| stddev|  53.5094673816375|0.2817926773467503| 0.446898758463185|15.560721063721333|\n",
      "|    min|             -53.0|2.3729120029701067|                 0|             -48.0|\n",
      "|    max|            2028.0| 3.330210784571528|                 1|             229.0|\n",
      "+-------+------------------+------------------+------------------+------------------+\n",
      "\n"
     ]
    }
   ],
   "source": [
    "bd4.describe('ARR_DELAY','LogD','DELAY','RETARD').show()"
   ]
  },
  {
   "cell_type": "code",
   "execution_count": 66,
   "metadata": {
    "collapsed": false
   },
   "outputs": [
    {
     "data": {
      "text/html": [
       "<div>\n",
       "<table border=\"1\" class=\"dataframe\">\n",
       "  <thead>\n",
       "    <tr style=\"text-align: right;\">\n",
       "      <th></th>\n",
       "      <th>summary</th>\n",
       "      <th>ARR_DELAY</th>\n",
       "      <th>LogD</th>\n",
       "      <th>DELAY</th>\n",
       "      <th>RETARD</th>\n",
       "    </tr>\n",
       "  </thead>\n",
       "  <tbody>\n",
       "    <tr>\n",
       "      <th>0</th>\n",
       "      <td>count</td>\n",
       "      <td>30466</td>\n",
       "      <td>30466</td>\n",
       "      <td>30466</td>\n",
       "      <td>30466</td>\n",
       "    </tr>\n",
       "    <tr>\n",
       "      <th>1</th>\n",
       "      <td>mean</td>\n",
       "      <td>13.300695857677411</td>\n",
       "      <td>2.8860074541721437</td>\n",
       "      <td>0.2757500164117377</td>\n",
       "      <td>-3.919680955819602</td>\n",
       "    </tr>\n",
       "    <tr>\n",
       "      <th>2</th>\n",
       "      <td>stddev</td>\n",
       "      <td>53.5094673816375</td>\n",
       "      <td>0.2817926773467503</td>\n",
       "      <td>0.446898758463185</td>\n",
       "      <td>15.560721063721333</td>\n",
       "    </tr>\n",
       "    <tr>\n",
       "      <th>3</th>\n",
       "      <td>min</td>\n",
       "      <td>-53.0</td>\n",
       "      <td>2.3729120029701067</td>\n",
       "      <td>0</td>\n",
       "      <td>-48.0</td>\n",
       "    </tr>\n",
       "    <tr>\n",
       "      <th>4</th>\n",
       "      <td>max</td>\n",
       "      <td>2028.0</td>\n",
       "      <td>3.330210784571528</td>\n",
       "      <td>1</td>\n",
       "      <td>229.0</td>\n",
       "    </tr>\n",
       "  </tbody>\n",
       "</table>\n",
       "</div>"
      ],
      "text/plain": [
       "  summary           ARR_DELAY                LogD               DELAY  \\\n",
       "0   count               30466               30466               30466   \n",
       "1    mean  13.300695857677411  2.8860074541721437  0.2757500164117377   \n",
       "2  stddev    53.5094673816375  0.2817926773467503   0.446898758463185   \n",
       "3     min               -53.0  2.3729120029701067                   0   \n",
       "4     max              2028.0   3.330210784571528                   1   \n",
       "\n",
       "               RETARD  \n",
       "0               30466  \n",
       "1  -3.919680955819602  \n",
       "2  15.560721063721333  \n",
       "3               -48.0  \n",
       "4               229.0  "
      ]
     },
     "execution_count": 66,
     "metadata": {},
     "output_type": "execute_result"
    }
   ],
   "source": [
    "bd4.describe('ARR_DELAY','LogD','DELAY','RETARD').toPandas()"
   ]
  },
  {
   "cell_type": "code",
   "execution_count": 67,
   "metadata": {
    "collapsed": false
   },
   "outputs": [],
   "source": [
    "sqlContext.registerDataFrameAsTable(bd4, \"bd4\")\n",
    "\n",
    "bd5 = sqlContext.sql(\"select *, case \\\n",
    "               when CRS_DEP_TIME <= 800 then 1 \\\n",
    "               when 800 < CRS_DEP_TIME and CRS_DEP_TIME <= 1200 then 2 \\\n",
    "               when 1200 < CRS_DEP_TIME and CRS_DEP_TIME <= 1600 then 3 \\\n",
    "               when 1600 < CRS_DEP_TIME and CRS_DEP_TIME <= 2100 then 4 \\\n",
    "               else 1 end as Horario \\\n",
    "               from bd4\")"
   ]
  },
  {
   "cell_type": "code",
   "execution_count": 68,
   "metadata": {
    "collapsed": false
   },
   "outputs": [
    {
     "name": "stdout",
     "output_type": "stream",
     "text": [
      "+-------+-----------------+\n",
      "|summary|          Horario|\n",
      "+-------+-----------------+\n",
      "|  count|            30466|\n",
      "|   mean|2.539322523468785|\n",
      "| stddev|1.136901609153115|\n",
      "|    min|                1|\n",
      "|    max|                4|\n",
      "+-------+-----------------+\n",
      "\n"
     ]
    }
   ],
   "source": [
    "bd5.select('Horario').describe().show()"
   ]
  },
  {
   "cell_type": "code",
   "execution_count": 69,
   "metadata": {
    "collapsed": false
   },
   "outputs": [
    {
     "name": "stdout",
     "output_type": "stream",
     "text": [
      "+-------+-----+\n",
      "|Horario|count|\n",
      "+-------+-----+\n",
      "|      1| 7519|\n",
      "|      2| 7382|\n",
      "|      3| 7180|\n",
      "|      4| 8385|\n",
      "+-------+-----+\n",
      "\n"
     ]
    }
   ],
   "source": [
    "bd5.select('Horario').groupBy('Horario').count().show()"
   ]
  },
  {
   "cell_type": "markdown",
   "metadata": {},
   "source": [
    "## Exportar o banco de dados para HDF"
   ]
  },
  {
   "cell_type": "code",
   "execution_count": 70,
   "metadata": {
    "collapsed": false
   },
   "outputs": [],
   "source": [
    "bd5.write.format(\n",
    "    \"com.databricks.spark.csv\"\n",
    ").option(\n",
    "    \"header\", \"true\"\n",
    ").mode('overwrite').save('/user/cloudera/spark/voos/bd5.csv') "
   ]
  }
 ],
 "metadata": {
  "anaconda-cloud": {},
  "kernelspec": {
   "display_name": "Python [default]",
   "language": "python",
   "name": "python3"
  },
  "language_info": {
   "codemirror_mode": {
    "name": "ipython",
    "version": 3
   },
   "file_extension": ".py",
   "mimetype": "text/x-python",
   "name": "python",
   "nbconvert_exporter": "python",
   "pygments_lexer": "ipython3",
   "version": "3.5.2"
  }
 },
 "nbformat": 4,
 "nbformat_minor": 1
}
