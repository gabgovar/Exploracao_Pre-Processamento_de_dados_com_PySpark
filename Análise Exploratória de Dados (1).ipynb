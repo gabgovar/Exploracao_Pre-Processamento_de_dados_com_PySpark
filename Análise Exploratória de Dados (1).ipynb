{
 "cells": [
  {
   "cell_type": "markdown",
   "metadata": {},
   "source": [
    "# Análise Exploratória de Dados (1)"
   ]
  },
  {
   "cell_type": "markdown",
   "metadata": {},
   "source": [
    "## Objetivos possíveis:\n",
    "\n",
    "* **Prever atrasos de voos**\n",
    "* Analisar fatores relacionados a voos que causam atraso\n",
    "* Analisar fatores relacionados a voos atrasados atribuíveis à companhia aérea.\n",
    "* Classificar aeroportos\n",
    "* Classificar companhias aéreas"
   ]
  },
  {
   "cell_type": "markdown",
   "metadata": {},
   "source": [
    "## Leitura inicial"
   ]
  },
  {
   "cell_type": "markdown",
   "metadata": {},
   "source": [
    "Definir SparkContext e SQLContext"
   ]
  },
  {
   "cell_type": "code",
   "execution_count": 1,
   "metadata": {
    "collapsed": true
   },
   "outputs": [],
   "source": [
    "#from pyspark import SparkContext\n",
    "#sc = SparkContext()\n",
    "#from pyspark.sql import SQLContext\n",
    "#sqlContext=SQLContext(sc)"
   ]
  },
  {
   "cell_type": "markdown",
   "metadata": {},
   "source": [
    "Lendo o arquivo de trabalho"
   ]
  },
  {
   "cell_type": "code",
   "execution_count": 3,
   "metadata": {
    "collapsed": true
   },
   "outputs": [],
   "source": [
    "bd = sqlContext.read.format(\"com.databricks.spark.csv\"\n",
    ").option(\"header\", \"true\"\n",
    ").load(\"file:/home/cloudera/Time.csv\", inferSchema=True\n",
    ")"
   ]
  },
  {
   "cell_type": "markdown",
   "metadata": {},
   "source": [
    "## Pré-processo inicial"
   ]
  },
  {
   "cell_type": "markdown",
   "metadata": {},
   "source": [
    "Filtrar variáveis ​​de interesse e principais aeroportos"
   ]
  },
  {
   "cell_type": "code",
   "execution_count": 4,
   "metadata": {
    "collapsed": true
   },
   "outputs": [],
   "source": [
    "bd=bd.select('Year','Month','DAY_OF_MONTH','DAY_OF_WEEK','CRS_DEP_TIME','OP_UNIQUE_CARRIER',\n",
    "             'TAIL_NUM', 'ARR_DELAY','DEP_DELAY','ORIGIN','DEST','DISTANCE','CANCELLED', 'DIVERTED',\n",
    "             'CARRIER_DELAY','WEATHER_DELAY','NAS_DELAY','SECURITY_DELAY','LATE_AIRCRAFT_DELAY')"
   ]
  },
  {
   "cell_type": "code",
   "execution_count": 5,
   "metadata": {
    "collapsed": true
   },
   "outputs": [],
   "source": [
    "sqlContext.registerDataFrameAsTable(bd, \"bd\")\n",
    "bd2 = sqlContext.sql(\"select * from bd \\\n",
    "            where ORIGIN in ('ATL','ORD','DEN','LAX','DFW','SFO','PHX','LAS') \\\n",
    "            and DEST in ('ATL','ORD','DEN','LAX','DFW','SFO','PHX','LAS')\")\n",
    "sqlContext.registerDataFrameAsTable(bd2, \"bd2\")"
   ]
  },
  {
   "cell_type": "markdown",
   "metadata": {},
   "source": [
    "# Exploração de Variáveis\n",
    "Dados (variáveis) são características observáveis ​​de indivíduos em uma população. Essas variáveis ​​podem ser:\n",
    "\n",
    "* __QUALITATIVA__: rótulos (numéricos ou não) que representam o grupo ou categoria a que um indivíduo pertence. Você pode diferenciar entre nominal e ordinal.\n",
    "\n",
    "* __QUANTITATIVA__: valores numéricos para os quais faz sentido fazer aritmética. Pode-se diferenciar entre valores inteiros (discretos) e valores medidos em uma determinada escala (contínuo).\n",
    "\n"
   ]
  },
  {
   "cell_type": "markdown",
   "metadata": {},
   "source": [
    "## Exploração de Variáveis ​​Qualitativas\n",
    "* Número de casos disponíveis\n",
    "* Número de categorias\n",
    "* Frequências Relativas\n",
    "* Frequências absolutas\n",
    "* Frequencia. relativo cumulativo\n",
    "* Frequencia. absoluto cumulativo"
   ]
  },
  {
   "cell_type": "code",
   "execution_count": 6,
   "metadata": {
    "collapsed": false
   },
   "outputs": [
    {
     "data": {
      "text/plain": [
       "30965"
      ]
     },
     "execution_count": 6,
     "metadata": {},
     "output_type": "execute_result"
    }
   ],
   "source": [
    "bd2.count()"
   ]
  },
  {
   "cell_type": "code",
   "execution_count": 7,
   "metadata": {
    "collapsed": false
   },
   "outputs": [
    {
     "data": {
      "text/plain": [
       "8"
      ]
     },
     "execution_count": 7,
     "metadata": {},
     "output_type": "execute_result"
    }
   ],
   "source": [
    "bd2.select(\"DEST\").distinct().count()"
   ]
  },
  {
   "cell_type": "code",
   "execution_count": 8,
   "metadata": {
    "collapsed": false
   },
   "outputs": [
    {
     "name": "stdout",
     "output_type": "stream",
     "text": [
      "+----+-----+\n",
      "|DEST|count|\n",
      "+----+-----+\n",
      "| ORD| 3829|\n",
      "| LAS| 3726|\n",
      "| LAX| 5342|\n",
      "| ATL| 3094|\n",
      "| DEN| 3967|\n",
      "| PHX| 3302|\n",
      "| DFW| 3275|\n",
      "| SFO| 4430|\n",
      "+----+-----+\n",
      "\n"
     ]
    }
   ],
   "source": [
    "bd2.groupBy(\"DEST\").count().show()"
   ]
  },
  {
   "cell_type": "code",
   "execution_count": 9,
   "metadata": {
    "collapsed": false
   },
   "outputs": [
    {
     "name": "stdout",
     "output_type": "stream",
     "text": [
      "+----+----+-----+\n",
      "|DEST|   n|    p|\n",
      "+----+----+-----+\n",
      "| ORD|3829|12.37|\n",
      "| LAS|3726|12.03|\n",
      "| LAX|5342|17.25|\n",
      "| ATL|3094| 9.99|\n",
      "| DEN|3967|12.81|\n",
      "| PHX|3302|10.66|\n",
      "| DFW|3275|10.58|\n",
      "| SFO|4430|14.31|\n",
      "+----+----+-----+\n",
      "\n"
     ]
    }
   ],
   "source": [
    "sqlContext.sql(\"select DEST, count(*) as n , round(  100*count(*)/30965  ,2) as p \\\n",
    "                from bd2 \\\n",
    "                group by DEST  \").show()"
   ]
  },
  {
   "cell_type": "code",
   "execution_count": 11,
   "metadata": {
    "collapsed": false
   },
   "outputs": [
    {
     "name": "stdout",
     "output_type": "stream",
     "text": [
      "+----+----+------------------+\n",
      "|DEST|   n|                 p|\n",
      "+----+----+------------------+\n",
      "| ORD|3829|12.365574035201034|\n",
      "| LAS|3726|12.032940416599386|\n",
      "| LAX|5342|17.251735830776685|\n",
      "| ATL|3094| 9.991926368480543|\n",
      "| DEN|3967|12.811238495075084|\n",
      "| PHX|3302|10.663652510899402|\n",
      "| DFW|3275|10.576457290489262|\n",
      "| SFO|4430|14.306475052478605|\n",
      "+----+----+------------------+\n",
      "\n"
     ]
    }
   ],
   "source": [
    "sqlContext.sql(\"select t1.DEST , t1.n , 100*t1.n/t2.t as p\\\n",
    "               from (select DEST, count(*) as n from bd2 group by DEST ) as t1 , \\\n",
    "               (select count(*) as t from bd2) as t2\").show()"
   ]
  },
  {
   "cell_type": "markdown",
   "metadata": {},
   "source": [
    "## Exploração de Variáveis ​​Quantitativas\n",
    "\n",
    "* Número de casos disponíveis\n",
    "* Medidas de localização\n",
    "   * Média: centro de massa\n",
    "   * Mediana: ponto médio (50% da amostra)\n",
    "* Medidas de dispersão\n",
    "   * Variação / desvio padrão\n",
    "   * Quartis Q3 e Q1 (25% e 75% da amostra)\n",
    "   * Faixa Interquartil: IQR = Q3 - Q1\n",
    "   * Faixa = máx. - mín.\n",
    "* Valores extremos\n",
    "   * Máximo e mínimo; cabeçalho e rodapé\n",
    "   * Percentis (1%, 99%)\n",
    "   * Porcentagem de casos 'acima/abaixo'."
   ]
  },
  {
   "cell_type": "code",
   "execution_count": 12,
   "metadata": {
    "collapsed": false
   },
   "outputs": [
    {
     "name": "stdout",
     "output_type": "stream",
     "text": [
      "+-------+------------------+\n",
      "|summary|         ARR_DELAY|\n",
      "+-------+------------------+\n",
      "|  count|             30466|\n",
      "|   mean|13.300695857677411|\n",
      "| stddev|  53.5094673816375|\n",
      "|    min|             -53.0|\n",
      "|    max|            2028.0|\n",
      "+-------+------------------+\n",
      "\n"
     ]
    }
   ],
   "source": [
    "bd2.describe(\"ARR_DELAY\").show()"
   ]
  },
  {
   "cell_type": "code",
   "execution_count": 13,
   "metadata": {
    "collapsed": false
   },
   "outputs": [
    {
     "data": {
      "text/plain": [
       "<bound method DataFrame.collect of DataFrame[max(ARR_DELAY): double]>"
      ]
     },
     "execution_count": 13,
     "metadata": {},
     "output_type": "execute_result"
    }
   ],
   "source": [
    "bd2.select('ARR_DELAY').groupBy().max().collect"
   ]
  },
  {
   "cell_type": "code",
   "execution_count": 14,
   "metadata": {
    "collapsed": false
   },
   "outputs": [
    {
     "name": "stdout",
     "output_type": "stream",
     "text": [
      "+-----+------+\n",
      "|  Min|   Max|\n",
      "+-----+------+\n",
      "|-53.0|2028.0|\n",
      "+-----+------+\n",
      "\n"
     ]
    }
   ],
   "source": [
    "sqlContext.sql(\"select min(ARR_DELAY) as Min, \\\n",
    "                max(ARR_DELAY) as Max from bd2\" ).show()"
   ]
  },
  {
   "cell_type": "code",
   "execution_count": 15,
   "metadata": {
    "collapsed": false
   },
   "outputs": [
    {
     "name": "stdout",
     "output_type": "stream",
     "text": [
      "+---------+\n",
      "|ARR_DELAY|\n",
      "+---------+\n",
      "|   2028.0|\n",
      "|   1505.0|\n",
      "|   1006.0|\n",
      "|    996.0|\n",
      "|    951.0|\n",
      "|    920.0|\n",
      "|    920.0|\n",
      "|    873.0|\n",
      "|    872.0|\n",
      "|    868.0|\n",
      "+---------+\n",
      "only showing top 10 rows\n",
      "\n"
     ]
    }
   ],
   "source": [
    "bd2.select('ARR_DELAY').orderBy('ARR_DELAY',ascending=False).show(10)"
   ]
  },
  {
   "cell_type": "code",
   "execution_count": 16,
   "metadata": {
    "collapsed": false
   },
   "outputs": [
    {
     "data": {
      "text/plain": [
       "Row(ARR_DELAY=103.0)"
      ]
     },
     "execution_count": 16,
     "metadata": {},
     "output_type": "execute_result"
    }
   ],
   "source": [
    "n=bd2.select('ARR_DELAY').count()\n",
    "P95=int(n*0.95)\n",
    "bd2.select('ARR_DELAY').sort('ARR_DELAY').collect()[P95]"
   ]
  },
  {
   "cell_type": "markdown",
   "metadata": {},
   "source": [
    "## Representação gráfica de variáveis ​​qualitativas"
   ]
  },
  {
   "cell_type": "code",
   "execution_count": 18,
   "metadata": {
    "collapsed": true
   },
   "outputs": [],
   "source": [
    "import matplotlib.pyplot as plt\n",
    "%matplotlib inline"
   ]
  },
  {
   "cell_type": "code",
   "execution_count": 19,
   "metadata": {
    "collapsed": false
   },
   "outputs": [
    {
     "data": {
      "text/html": [
       "<div>\n",
       "<table border=\"1\" class=\"dataframe\">\n",
       "  <thead>\n",
       "    <tr style=\"text-align: right;\">\n",
       "      <th></th>\n",
       "      <th>DEST</th>\n",
       "      <th>n</th>\n",
       "    </tr>\n",
       "  </thead>\n",
       "  <tbody>\n",
       "    <tr>\n",
       "      <th>0</th>\n",
       "      <td>ORD</td>\n",
       "      <td>3829</td>\n",
       "    </tr>\n",
       "    <tr>\n",
       "      <th>1</th>\n",
       "      <td>LAS</td>\n",
       "      <td>3726</td>\n",
       "    </tr>\n",
       "    <tr>\n",
       "      <th>2</th>\n",
       "      <td>LAX</td>\n",
       "      <td>5342</td>\n",
       "    </tr>\n",
       "    <tr>\n",
       "      <th>3</th>\n",
       "      <td>ATL</td>\n",
       "      <td>3094</td>\n",
       "    </tr>\n",
       "    <tr>\n",
       "      <th>4</th>\n",
       "      <td>DEN</td>\n",
       "      <td>3967</td>\n",
       "    </tr>\n",
       "    <tr>\n",
       "      <th>5</th>\n",
       "      <td>PHX</td>\n",
       "      <td>3302</td>\n",
       "    </tr>\n",
       "    <tr>\n",
       "      <th>6</th>\n",
       "      <td>DFW</td>\n",
       "      <td>3275</td>\n",
       "    </tr>\n",
       "    <tr>\n",
       "      <th>7</th>\n",
       "      <td>SFO</td>\n",
       "      <td>4430</td>\n",
       "    </tr>\n",
       "  </tbody>\n",
       "</table>\n",
       "</div>"
      ],
      "text/plain": [
       "  DEST     n\n",
       "0  ORD  3829\n",
       "1  LAS  3726\n",
       "2  LAX  5342\n",
       "3  ATL  3094\n",
       "4  DEN  3967\n",
       "5  PHX  3302\n",
       "6  DFW  3275\n",
       "7  SFO  4430"
      ]
     },
     "execution_count": 19,
     "metadata": {},
     "output_type": "execute_result"
    }
   ],
   "source": [
    "g1=sqlContext.sql(\"select DEST, count(*) as n from bd2 group by Dest\")\n",
    "pdf1=g1.toPandas()\n",
    "pdf1"
   ]
  },
  {
   "cell_type": "code",
   "execution_count": 20,
   "metadata": {
    "collapsed": false
   },
   "outputs": [
    {
     "data": {
      "text/plain": [
       "<matplotlib.axes._subplots.AxesSubplot at 0x7f3f9f0fa9e8>"
      ]
     },
     "execution_count": 20,
     "metadata": {},
     "output_type": "execute_result"
    },
    {
     "data": {
      "image/png": "[encoded data removed]",
      "text/plain": [
       "<matplotlib.figure.Figure at 0x7f3f9f102f98>"
      ]
     },
     "metadata": {},
     "output_type": "display_data"
    }
   ],
   "source": [
    "pdf1.plot(kind='bar',x='DEST',y='n')"
   ]
  },
  {
   "cell_type": "code",
   "execution_count": 21,
   "metadata": {
    "collapsed": false
   },
   "outputs": [
    {
     "data": {
      "text/plain": [
       "<matplotlib.axes._subplots.AxesSubplot at 0x7f3f9ca16f28>"
      ]
     },
     "execution_count": 21,
     "metadata": {},
     "output_type": "execute_result"
    },
    {
     "data": {
      "image/png": "[encoded data removed]",
      "text/plain": [
       "<matplotlib.figure.Figure at 0x7f3f9ca5fda0>"
      ]
     },
     "metadata": {},
     "output_type": "display_data"
    }
   ],
   "source": [
    "pdf1.plot(kind='barh',x='DEST',y='n')"
   ]
  },
  {
   "cell_type": "markdown",
   "metadata": {},
   "source": [
    "## Representação gráfica de variáveis ​​quantitativas"
   ]
  },
  {
   "cell_type": "markdown",
   "metadata": {},
   "source": [
    "Apenas os dados de uma amostra são representados."
   ]
  },
  {
   "cell_type": "code",
   "execution_count": 22,
   "metadata": {
    "collapsed": true
   },
   "outputs": [],
   "source": [
    "#pdf2 = bd2.select('ArrDelay').toPandas()\n",
    "pdf2 = bd2.sample(False, 0.1, 0).select('ARR_DELAY').toPandas()"
   ]
  },
  {
   "cell_type": "code",
   "execution_count": 23,
   "metadata": {
    "collapsed": false
   },
   "outputs": [
    {
     "data": {
      "text/plain": [
       "<matplotlib.axes._subplots.AxesSubplot at 0x7f3f9c7c1780>"
      ]
     },
     "execution_count": 23,
     "metadata": {},
     "output_type": "execute_result"
    },
    {
     "data": {
      "image/png": "[encoded data removed]",
      "text/plain": [
       "<matplotlib.figure.Figure at 0x7f3fa517c208>"
      ]
     },
     "metadata": {},
     "output_type": "display_data"
    }
   ],
   "source": [
    "pdf2.plot.hist(bins=20)"
   ]
  },
  {
   "cell_type": "code",
   "execution_count": 24,
   "metadata": {
    "collapsed": false
   },
   "outputs": [
    {
     "data": {
      "text/plain": [
       "<matplotlib.axes._subplots.AxesSubplot at 0x7f3f9c6d5eb8>"
      ]
     },
     "execution_count": 24,
     "metadata": {},
     "output_type": "execute_result"
    },
    {
     "data": {
      "image/png": "[encoded data removed]",
      "text/plain": [
       "<matplotlib.figure.Figure at 0x7f3f9f148cc0>"
      ]
     },
     "metadata": {},
     "output_type": "display_data"
    }
   ],
   "source": [
    "pdf2.plot.box()"
   ]
  },
  {
   "cell_type": "code",
   "execution_count": null,
   "metadata": {
    "collapsed": true
   },
   "outputs": [],
   "source": []
  }
 ],
 "metadata": {
  "anaconda-cloud": {},
  "kernelspec": {
   "display_name": "Python [default]",
   "language": "python",
   "name": "python3"
  },
  "language_info": {
   "codemirror_mode": {
    "name": "ipython",
    "version": 3
   },
   "file_extension": ".py",
   "mimetype": "text/x-python",
   "name": "python",
   "nbconvert_exporter": "python",
   "pygments_lexer": "ipython3",
   "version": "3.5.2"
  }
 },
 "nbformat": 4,
 "nbformat_minor": 1
}
